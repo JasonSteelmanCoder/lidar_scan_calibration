{
 "cells": [
  {
   "cell_type": "code",
   "execution_count": 4,
   "id": "7c150e0f-65d1-496a-ab7f-5836c33d6172",
   "metadata": {},
   "outputs": [
    {
     "data": {
      "text/plain": [
       "True"
      ]
     },
     "execution_count": 4,
     "metadata": {},
     "output_type": "execute_result"
    }
   ],
   "source": [
    "# set up libraries\n",
    "import os\n",
    "import pandas as pd\n",
    "import numpy as np\n",
    "import matplotlib.pyplot as plt\n",
    "from dotenv import load_dotenv\n",
    "\n",
    "load_dotenv()"
   ]
  },
  {
   "cell_type": "code",
   "execution_count": 6,
   "id": "0995c579-a382-4c4b-acf9-6e93ee2cf752",
   "metadata": {},
   "outputs": [
    {
     "name": "stdout",
     "output_type": "stream",
     "text": [
      "   Unnamed: 0.1 Unnamed: 0             h_filename    h_script_name  \\\n",
      "0             0        25%  GACHF_0046_20231127_1  IntELiMon_1.1.1   \n",
      "1             1        25%  GACHF_0046_20231127_2  IntELiMon_1.1.1   \n",
      "2             2        25%  GACHF_0047_20231127_1  IntELiMon_1.1.1   \n",
      "3             3        25%  GACHF_0047_20231127_2  IntELiMon_1.1.1   \n",
      "4             4        25%  GACHF_0048_20231127_1  IntELiMon_1.1.1   \n",
      "5             5        25%  GACHF_0048_20231127_2  IntELiMon_1.1.1   \n",
      "\n",
      "   h_ground_cnt  h_not_ground_cnt  h_per_ground  h_ng_tgi      h_ng_vari  \\\n",
      "0       1708526           1509268     53.096190  1.577028  474624.818404   \n",
      "1       1091387           1478476     42.468684 -6.703746  390509.323676   \n",
      "2       1746586           1160030     60.090015  4.808763  254232.952599   \n",
      "3        248454            221124     52.910060 -6.038919  243176.519397   \n",
      "4       1602504           1355043     54.183551  4.265567  292538.252386   \n",
      "5        839699           1068262     44.010281 -7.298276  331540.240745   \n",
      "\n",
      "   h_l1_cnt  ...        crs  LF_EVC  LF_EVT  LF_FBFM13  LF_FBFM40  LF_CBD  \\\n",
      "0     89727  ...  EPSG:3857      25    7299         91         91       0   \n",
      "1     95045  ...  EPSG:3857      25    7299         91         91       0   \n",
      "2     90553  ...  EPSG:3857     165    9321          5        143       5   \n",
      "3     14943  ...  EPSG:3857     165    9321          5        143       5   \n",
      "4    133485  ...  EPSG:3857     165    9321          5        143       5   \n",
      "5     90342  ...  EPSG:3857     165    9321          5        143       5   \n",
      "\n",
      "   LF_FDist  LF_ASP  LF_EVEL  LF_SLPD  \n",
      "0       113     151      144        4  \n",
      "1       113     151      144        4  \n",
      "2       112      -1      146        2  \n",
      "3       112      -1      146        2  \n",
      "4       112      -1      144        2  \n",
      "5       112      -1      144        2  \n",
      "\n",
      "[6 rows x 252 columns]\n"
     ]
    }
   ],
   "source": [
    "# grab the intelimon data\n",
    "intelimon_data = pd.read_csv(f\"C:/Users/{os.getenv(\"MS_USER_NAME\")}/Desktop/Hitchiti_IntensiveBiomass_TLSMetrics/merged_metrics.csv\")\n",
    "print(intelimon_data)"
   ]
  },
  {
   "cell_type": "code",
   "execution_count": 17,
   "id": "f64edf46-4a6d-4f6f-ba48-3018daf6f8f5",
   "metadata": {},
   "outputs": [
    {
     "name": "stdout",
     "output_type": "stream",
     "text": [
      "0    199007.668070\n",
      "1    222088.136286\n",
      "2    522953.588750\n",
      "Name: kriged_biomass, dtype: float64\n"
     ]
    }
   ],
   "source": [
    "# grab the biomass data\n",
    "biomass_data = pd.read_csv(f\"C:/Users/{os.getenv(\"MS_USER_NAME\")}/Desktop/lidar_scan_calibration/csv_data/kriged_biomass_estimations.csv\")\n",
    "total_biomasses = biomass_data.loc[biomass_data[\"biomass_type\"] == \"total_biomass\", \"kriged_biomass\"]\n",
    "total_biomasses.reset_index(drop=True, inplace=True)\n",
    "print(total_biomasses)"
   ]
  },
  {
   "cell_type": "code",
   "execution_count": 25,
   "id": "12b50de5-1a94-475c-b07e-ede4c875a929",
   "metadata": {},
   "outputs": [
    {
     "name": "stdout",
     "output_type": "stream",
     "text": [
      "0    199007.668070\n",
      "1    199007.668070\n",
      "2    222088.136286\n",
      "3    222088.136286\n",
      "4    522953.588750\n",
      "5    522953.588750\n",
      "Name: biomass, dtype: float64\n"
     ]
    }
   ],
   "source": [
    "# add biomass data to intelimon data\n",
    "intelimon_data.loc[0, \"biomass\"] = total_biomasses[0]\n",
    "intelimon_data.loc[1, \"biomass\"] = total_biomasses[0]\n",
    "intelimon_data.loc[2, \"biomass\"] = total_biomasses[1]\n",
    "intelimon_data.loc[3, \"biomass\"] = total_biomasses[1]\n",
    "intelimon_data.loc[4, \"biomass\"] = total_biomasses[2]\n",
    "intelimon_data.loc[5, \"biomass\"] = total_biomasses[2]\n",
    "\n",
    "print(intelimon_data[\"biomass\"])"
   ]
  },
  {
   "cell_type": "code",
   "execution_count": 34,
   "id": "8fd9f083-8776-4188-a8d8-e951947c5c3c",
   "metadata": {},
   "outputs": [
    {
     "data": {
      "text/plain": [
       "<matplotlib.collections.PathCollection at 0x1d5252b73e0>"
      ]
     },
     "execution_count": 34,
     "metadata": {},
     "output_type": "execute_result"
    },
    {
     "data": {
      "image/png": "[encoded data removed]",
      "text/plain": [
       "<Figure size 640x480 with 1 Axes>"
      ]
     },
     "metadata": {},
     "output_type": "display_data"
    }
   ],
   "source": [
    "plt.scatter(intelimon_data[\"h_l4_tgi\"], intelimon_data[\"biomass\"])"
   ]
  },
  {
   "cell_type": "code",
   "execution_count": null,
   "id": "fae7529a-69c5-44bb-aae0-185f3c448d24",
   "metadata": {},
   "outputs": [],
   "source": []
  }
 ],
 "metadata": {
  "kernelspec": {
   "display_name": "Python 3 (ipykernel)",
   "language": "python",
   "name": "python3"
  },
  "language_info": {
   "codemirror_mode": {
    "name": "ipython",
    "version": 3
   },
   "file_extension": ".py",
   "mimetype": "text/x-python",
   "name": "python",
   "nbconvert_exporter": "python",
   "pygments_lexer": "ipython3",
   "version": "3.12.3"
  }
 },
 "nbformat": 4,
 "nbformat_minor": 5
}
